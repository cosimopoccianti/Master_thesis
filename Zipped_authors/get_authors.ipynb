{
 "cells": [
  {
   "cell_type": "markdown",
   "metadata": {},
   "source": [
    "# Downloading Authors datasets\n",
    "\n",
    "In this section authors' information are downloaded from Semantic Scholar API datasets"
   ]
  },
  {
   "cell_type": "code",
   "execution_count": 1,
   "metadata": {},
   "outputs": [],
   "source": [
    "import requests\n",
    "import wget\n",
    "from tqdm import tqdm\n",
    "import os"
   ]
  },
  {
   "cell_type": "code",
   "execution_count": 2,
   "metadata": {},
   "outputs": [
    {
     "name": "stderr",
     "output_type": "stream",
     "text": [
      "c:\\Python311\\Lib\\site-packages\\urllib3\\connectionpool.py:1095: InsecureRequestWarning: Unverified HTTPS request is being made to host 'api.semanticscholar.org'. Adding certificate verification is strongly advised. See: https://urllib3.readthedocs.io/en/latest/advanced-usage.html#tls-warnings\n",
      "  warnings.warn(\n",
      "100%|██████████| 30/30 [1:38:18<00:00, 196.60s/it]\n"
     ]
    }
   ],
   "source": [
    "url = 'https://api.semanticscholar.org/datasets/v1/release/2023-07-11/dataset/authors'\n",
    "\n",
    "header = {'x-api-key': 'your API key'}\n",
    "\n",
    "response = requests.get(url, headers=header, verify=False)\n",
    "response = response.json()\n",
    "\n",
    "for file in tqdm(response['files']):\n",
    "    scaricato = False\n",
    "    for j in os.listdir('.'):\n",
    "        if j in file:\n",
    "            scaricato = True\n",
    "    if scaricato == False:\n",
    "        wget.download(file)"
   ]
  },
  {
   "cell_type": "code",
   "execution_count": null,
   "metadata": {},
   "outputs": [],
   "source": []
  }
 ],
 "metadata": {
  "kernelspec": {
   "display_name": "tesi",
   "language": "python",
   "name": "python3"
  },
  "language_info": {
   "codemirror_mode": {
    "name": "ipython",
    "version": 3
   },
   "file_extension": ".py",
   "mimetype": "text/x-python",
   "name": "python",
   "nbconvert_exporter": "python",
   "pygments_lexer": "ipython3",
   "version": "3.11.4"
  },
  "orig_nbformat": 4
 },
 "nbformat": 4,
 "nbformat_minor": 2
}
