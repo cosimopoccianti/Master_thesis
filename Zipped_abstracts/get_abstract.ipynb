{
 "cells": [
  {
   "cell_type": "markdown",
   "metadata": {},
   "source": [
    "# Downloading Abstracts datasets\n",
    "\n",
    "In this section abstracts' information are downloaded from Semantic Scholar API datasets"
   ]
  },
  {
   "cell_type": "code",
   "execution_count": null,
   "metadata": {},
   "outputs": [],
   "source": [
    "#Importing the libraries\n",
    "import requests\n",
    "import wget"
   ]
  },
  {
   "cell_type": "code",
   "execution_count": null,
   "metadata": {},
   "outputs": [],
   "source": [
    "#Dwonloading the files\n",
    "url = 'https://api.semanticscholar.org/datasets/v1/release/2023-07-15/dataset/abstracts'\n",
    "\n",
    "header = {'x-api-key': 'your API key'}\n",
    "\n",
    "response = requests.get(url, headers=header, verify=False)\n",
    "response = response.json()\n",
    "\n",
    "for file in response['files']:\n",
    "    scaricato = False\n",
    "    for j in os.listdir('.'):\n",
    "        if j in file:\n",
    "            scaricato = True\n",
    "    if scaricato == False:\n",
    "        wget.download(file)"
   ]
  }
 ],
 "metadata": {
  "language_info": {
   "name": "python"
  },
  "orig_nbformat": 4
 },
 "nbformat": 4,
 "nbformat_minor": 2
}
